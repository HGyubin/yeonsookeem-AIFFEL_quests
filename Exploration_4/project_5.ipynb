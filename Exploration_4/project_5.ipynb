{
 "cells": [
  {
   "cell_type": "markdown",
   "id": "1910acc0",
   "metadata": {},
   "source": [
    "## 데이터 준비"
   ]
  },
  {
   "cell_type": "code",
   "execution_count": 42,
   "id": "2551a026",
   "metadata": {},
   "outputs": [],
   "source": [
    "import pandas\n",
    "import konlpy\n",
    "import gensim"
   ]
  },
  {
   "cell_type": "code",
   "execution_count": 40,
   "id": "f23c564d",
   "metadata": {},
   "outputs": [
    {
     "data": {
      "text/html": [
       "<div>\n",
       "<style scoped>\n",
       "    .dataframe tbody tr th:only-of-type {\n",
       "        vertical-align: middle;\n",
       "    }\n",
       "\n",
       "    .dataframe tbody tr th {\n",
       "        vertical-align: top;\n",
       "    }\n",
       "\n",
       "    .dataframe thead th {\n",
       "        text-align: right;\n",
       "    }\n",
       "</style>\n",
       "<table border=\"1\" class=\"dataframe\">\n",
       "  <thead>\n",
       "    <tr style=\"text-align: right;\">\n",
       "      <th></th>\n",
       "      <th>id</th>\n",
       "      <th>document</th>\n",
       "      <th>label</th>\n",
       "    </tr>\n",
       "  </thead>\n",
       "  <tbody>\n",
       "    <tr>\n",
       "      <th>0</th>\n",
       "      <td>9976970</td>\n",
       "      <td>아 더빙.. 진짜 짜증나네요 목소리</td>\n",
       "      <td>0</td>\n",
       "    </tr>\n",
       "    <tr>\n",
       "      <th>1</th>\n",
       "      <td>3819312</td>\n",
       "      <td>흠...포스터보고 초딩영화줄....오버연기조차 가볍지 않구나</td>\n",
       "      <td>1</td>\n",
       "    </tr>\n",
       "    <tr>\n",
       "      <th>2</th>\n",
       "      <td>10265843</td>\n",
       "      <td>너무재밓었다그래서보는것을추천한다</td>\n",
       "      <td>0</td>\n",
       "    </tr>\n",
       "    <tr>\n",
       "      <th>3</th>\n",
       "      <td>9045019</td>\n",
       "      <td>교도소 이야기구먼 ..솔직히 재미는 없다..평점 조정</td>\n",
       "      <td>0</td>\n",
       "    </tr>\n",
       "    <tr>\n",
       "      <th>4</th>\n",
       "      <td>6483659</td>\n",
       "      <td>사이몬페그의 익살스런 연기가 돋보였던 영화!스파이더맨에서 늙어보이기만 했던 커스틴 ...</td>\n",
       "      <td>1</td>\n",
       "    </tr>\n",
       "  </tbody>\n",
       "</table>\n",
       "</div>"
      ],
      "text/plain": [
       "         id                                           document  label\n",
       "0   9976970                                아 더빙.. 진짜 짜증나네요 목소리      0\n",
       "1   3819312                  흠...포스터보고 초딩영화줄....오버연기조차 가볍지 않구나      1\n",
       "2  10265843                                  너무재밓었다그래서보는것을추천한다      0\n",
       "3   9045019                      교도소 이야기구먼 ..솔직히 재미는 없다..평점 조정      0\n",
       "4   6483659  사이몬페그의 익살스런 연기가 돋보였던 영화!스파이더맨에서 늙어보이기만 했던 커스틴 ...      1"
      ]
     },
     "execution_count": 40,
     "metadata": {},
     "output_type": "execute_result"
    }
   ],
   "source": [
    "# 데이터를 읽어봅시다. \n",
    "import pandas as pd\n",
    "train_data = pd.read_table('~/data/ratings_train.txt')\n",
    "test_data = pd.read_table('~/data/ratings_test.txt')\n",
    "\n",
    "train_data.head()"
   ]
  },
  {
   "cell_type": "code",
   "execution_count": 41,
   "id": "7cf465c5",
   "metadata": {},
   "outputs": [],
   "source": [
    "from konlpy.tag import Mecab\n",
    "import numpy as np\n",
    "from collections import Counter\n",
    "\n",
    "tokenizer = Mecab()\n",
    "stopwords = ['의','가','이','은','들','는','좀','잘','걍','과','도','를','으로','자','에','와','한','하다']\n",
    "\n",
    "def load_data(train_data, test_data, num_words=10000):\n",
    "    train_data.drop_duplicates(subset=['document'], inplace=True)\n",
    "    train_data = train_data.dropna(how='any')\n",
    "    test_data.drop_duplicates(subset=['document'], inplace = True)\n",
    "    test_data = test_data.dropna(how='any')\n",
    "    \n",
    "    X_train = []\n",
    "    for sentence in train_data['document']:\n",
    "        temp_X = tokenizer.morphs(sentence) # 토큰화\n",
    "        temp_X = [word for word in temp_X if not word in stopwords]\n",
    "        X_train.append(temp_X)\n",
    "    \n",
    "    X_test = []\n",
    "    for sentence in test_data['document']:\n",
    "        temp_X = tokenizer.morphs(sentence) # 토큰화\n",
    "        temp_X = [word for word in temp_X if not word in stopwords]\n",
    "        X_test.append(temp_X)\n",
    "    \n",
    "    words = np.concatenate(X_train).tolist()\n",
    "    counter = Counter(words)\n",
    "    counter = counter.most_common(10000-4)\n",
    "    vocab = ['<PAD>', '<BOS>', '<UNK>', '<UNUSED>'] + [key for key, _ in counter]\n",
    "    word_to_index = {word : index for index, word in enumerate(vocab)}\n",
    "    \n",
    "    def wordlist_to_indexlist(wordlist):\n",
    "        return [word_to_index[word] if word in word_to_index else word_to_index['<UNK>'] for word in wordlist]\n",
    "    \n",
    "    X_train = list(map(wordlist_to_indexlist, X_train))\n",
    "    X_test = list(map(wordlist_to_indexlist, X_test))\n",
    "    \n",
    "    return X_train, np.array(list(train_data['label'])), X_test, np.array(list(test_data['label'])), word_to_index\n",
    "    \n",
    "    \n",
    "X_train, y_train, X_test, y_test, word_to_index = load_data(train_data, test_data)"
   ]
  },
  {
   "cell_type": "code",
   "execution_count": 43,
   "id": "b131461b",
   "metadata": {},
   "outputs": [],
   "source": [
    "index_to_word = {index:word for word, index in word_to_index.items()}"
   ]
  },
  {
   "cell_type": "code",
   "execution_count": 44,
   "id": "1ede7583",
   "metadata": {},
   "outputs": [],
   "source": [
    "# 문장 1개를 활용할 딕셔너리와 함께 주면, 단어 인덱스 리스트 벡터로 변환해 주는 함수입니다. \n",
    "# 단, 모든 문장은 <BOS>로 시작하는 것으로 합니다. \n",
    "def get_encoded_sentence(sentence, word_to_index):\n",
    "    return [word_to_index['<BOS>']]+[word_to_index[word] if word in word_to_index else word_to_index['<UNK>'] for word in sentence.split()]\n",
    "\n",
    "# 여러 개의 문장 리스트를 한꺼번에 단어 인덱스 리스트 벡터로 encode해 주는 함수입니다. \n",
    "def get_encoded_sentences(sentences, word_to_index):\n",
    "    return [get_encoded_sentence(sentence, word_to_index) for sentence in sentences]\n",
    "\n",
    "# 숫자 벡터로 encode된 문장을 원래대로 decode하는 함수입니다. \n",
    "def get_decoded_sentence(encoded_sentence, index_to_word):\n",
    "    return ' '.join(index_to_word[index] if index in index_to_word else '<UNK>' for index in encoded_sentence[1:])  #[1:]를 통해 <BOS>를 제외\n",
    "\n",
    "# 여러 개의 숫자 벡터로 encode된 문장을 한꺼번에 원래대로 decode하는 함수입니다. \n",
    "def get_decoded_sentences(encoded_sentences, index_to_word):\n",
    "    return [get_decoded_sentence(encoded_sentence, index_to_word) for encoded_sentence in encoded_sentences]"
   ]
  },
  {
   "cell_type": "markdown",
   "id": "638ad7b8",
   "metadata": {},
   "source": [
    "## 모델 구성을 위한 데이터 분석 및 가공"
   ]
  },
  {
   "cell_type": "markdown",
   "id": "f5680891",
   "metadata": {},
   "source": [
    "### 데이터셋 내 문장 길이 분포"
   ]
  },
  {
   "cell_type": "code",
   "execution_count": 45,
   "id": "b51c0aa7",
   "metadata": {
    "scrolled": true
   },
   "outputs": [
    {
     "name": "stdout",
     "output_type": "stream",
     "text": [
      "문장길이 평균 :  15.96940191154864\n",
      "문장길이 최대 :  116\n",
      "문장길이 표준편차 :  12.843571191092\n",
      "pad_sequences maxlen :  41\n",
      "전체 문장의 0.9342988343341575%가 maxlen 설정값 이내에 포함됩니다. \n"
     ]
    }
   ],
   "source": [
    "total_data_text = list(X_train) + list(X_test)\n",
    "# 텍스트데이터 문장길이의 리스트를 생성한 후\n",
    "num_tokens = [len(tokens) for tokens in total_data_text]\n",
    "num_tokens = np.array(num_tokens)\n",
    "# 문장길이의 평균값, 최대값, 표준편차를 계산해 본다. \n",
    "print('문장길이 평균 : ', np.mean(num_tokens))\n",
    "print('문장길이 최대 : ', np.max(num_tokens))\n",
    "print('문장길이 표준편차 : ', np.std(num_tokens))\n",
    "\n",
    "# 예를들어, 최대 길이를 (평균 + 2*표준편차)로 한다면,  \n",
    "max_tokens = np.mean(num_tokens) + 2 * np.std(num_tokens)\n",
    "maxlen = int(max_tokens)\n",
    "print('pad_sequences maxlen : ', maxlen)\n",
    "print(f'전체 문장의 {np.sum(num_tokens < max_tokens) / len(num_tokens)}%가 maxlen 설정값 이내에 포함됩니다. ')"
   ]
  },
  {
   "cell_type": "markdown",
   "id": "9b4c4897",
   "metadata": {},
   "source": [
    "### 적절한 최대 문장 길이 지정"
   ]
  },
  {
   "cell_type": "markdown",
   "id": "e5c25fc7",
   "metadata": {},
   "source": [
    "### keras.preprocessing.sequence.pad_sequences 을 활용한 패딩 추가"
   ]
  },
  {
   "cell_type": "code",
   "execution_count": 46,
   "id": "246db920",
   "metadata": {},
   "outputs": [
    {
     "name": "stdout",
     "output_type": "stream",
     "text": [
      "(146182, 41)\n"
     ]
    }
   ],
   "source": [
    "import tensorflow as tf\n",
    "import os\n",
    "\n",
    "x_train = tf.keras.preprocessing.sequence.pad_sequences(X_train,\n",
    "                                                        value=word_to_index[\"<PAD>\"],\n",
    "                                                        padding='pre', # 혹은 'post'\n",
    "                                                        maxlen=maxlen)\n",
    "\n",
    "x_test = tf.keras.preprocessing.sequence.pad_sequences(X_test,\n",
    "                                                       value=word_to_index[\"<PAD>\"],\n",
    "                                                       padding='pre', # 혹은 'post'\n",
    "                                                       maxlen=maxlen)\n",
    "\n",
    "print(x_train.shape)"
   ]
  },
  {
   "cell_type": "markdown",
   "id": "ed17d6a4",
   "metadata": {},
   "source": [
    "## 모델 구성 및 validation set 구성"
   ]
  },
  {
   "cell_type": "code",
   "execution_count": 47,
   "id": "c9324387",
   "metadata": {
    "scrolled": true
   },
   "outputs": [
    {
     "name": "stdout",
     "output_type": "stream",
     "text": [
      "Model: \"sequential_1\"\n",
      "_________________________________________________________________\n",
      "Layer (type)                 Output Shape              Param #   \n",
      "=================================================================\n",
      "embedding_1 (Embedding)      (None, None, 16)          160000    \n",
      "_________________________________________________________________\n",
      "conv1d_2 (Conv1D)            (None, None, 16)          1808      \n",
      "_________________________________________________________________\n",
      "max_pooling1d_1 (MaxPooling1 (None, None, 16)          0         \n",
      "_________________________________________________________________\n",
      "conv1d_3 (Conv1D)            (None, None, 16)          1808      \n",
      "_________________________________________________________________\n",
      "global_max_pooling1d_1 (Glob (None, 16)                0         \n",
      "_________________________________________________________________\n",
      "dense_2 (Dense)              (None, 8)                 136       \n",
      "_________________________________________________________________\n",
      "dense_3 (Dense)              (None, 1)                 9         \n",
      "=================================================================\n",
      "Total params: 163,761\n",
      "Trainable params: 163,761\n",
      "Non-trainable params: 0\n",
      "_________________________________________________________________\n"
     ]
    }
   ],
   "source": [
    "vocab_size = 10000    # 어휘 사전의 크기입니다(10,000개의 단어)\n",
    "word_vector_dim = 16  # 워드 벡터의 차원 수 (변경 가능한 하이퍼파라미터)\n",
    "\n",
    "# model 설계 - 딥러닝 모델 코드를 직접 작성해 주세요.\n",
    "model = tf.keras.Sequential()\n",
    "model.add(tf.keras.layers.Embedding(vocab_size, word_vector_dim, input_shape=(None,)))\n",
    "model.add(tf.keras.layers.Conv1D(16, 7, activation='relu'))\n",
    "model.add(tf.keras.layers.MaxPooling1D(5))\n",
    "model.add(tf.keras.layers.Conv1D(16, 7, activation='relu'))\n",
    "model.add(tf.keras.layers.GlobalMaxPooling1D())\n",
    "model.add(tf.keras.layers.Dense(8, activation='relu'))\n",
    "model.add(tf.keras.layers.Dense(1, activation='sigmoid'))\n",
    "\n",
    "model.summary()"
   ]
  },
  {
   "cell_type": "code",
   "execution_count": 48,
   "id": "2fdd9b40",
   "metadata": {},
   "outputs": [
    {
     "name": "stdout",
     "output_type": "stream",
     "text": [
      "(97455, 41)\n",
      "(97455,)\n"
     ]
    }
   ],
   "source": [
    "### 훈련용 데이터셋 몇건?\n",
    "# validation set \n",
    "x_val = x_train[:48727]   \n",
    "y_val = y_train[:48727]\n",
    "\n",
    "# validation set을 제외한 나머지 \n",
    "partial_x_train = x_train[48727:]  \n",
    "partial_y_train = y_train[48727:]\n",
    "\n",
    "print(partial_x_train.shape)\n",
    "print(partial_y_train.shape)"
   ]
  },
  {
   "cell_type": "markdown",
   "id": "2fb4129f",
   "metadata": {},
   "source": [
    "## 모델 훈련 개시"
   ]
  },
  {
   "cell_type": "code",
   "execution_count": 49,
   "id": "1a445727",
   "metadata": {},
   "outputs": [
    {
     "name": "stdout",
     "output_type": "stream",
     "text": [
      "Epoch 1/20\n",
      "191/191 [==============================] - 2s 6ms/step - loss: 0.5166 - accuracy: 0.7296 - val_loss: 0.3609 - val_accuracy: 0.8423\n",
      "Epoch 2/20\n",
      "191/191 [==============================] - 1s 5ms/step - loss: 0.3339 - accuracy: 0.8586 - val_loss: 0.3433 - val_accuracy: 0.8507\n",
      "Epoch 3/20\n",
      "191/191 [==============================] - 1s 5ms/step - loss: 0.2963 - accuracy: 0.8769 - val_loss: 0.3409 - val_accuracy: 0.8518\n",
      "Epoch 4/20\n",
      "191/191 [==============================] - 1s 6ms/step - loss: 0.2672 - accuracy: 0.8903 - val_loss: 0.3544 - val_accuracy: 0.8491\n",
      "Epoch 5/20\n",
      "191/191 [==============================] - 1s 5ms/step - loss: 0.2391 - accuracy: 0.9046 - val_loss: 0.3631 - val_accuracy: 0.8479\n",
      "Epoch 6/20\n",
      "191/191 [==============================] - 1s 5ms/step - loss: 0.2095 - accuracy: 0.9194 - val_loss: 0.3800 - val_accuracy: 0.8461\n",
      "Epoch 7/20\n",
      "191/191 [==============================] - 1s 5ms/step - loss: 0.1780 - accuracy: 0.9343 - val_loss: 0.4122 - val_accuracy: 0.8418\n",
      "Epoch 8/20\n",
      "191/191 [==============================] - 1s 5ms/step - loss: 0.1498 - accuracy: 0.9469 - val_loss: 0.4553 - val_accuracy: 0.8408\n",
      "Epoch 9/20\n",
      "191/191 [==============================] - 1s 5ms/step - loss: 0.1232 - accuracy: 0.9580 - val_loss: 0.5071 - val_accuracy: 0.8349\n",
      "Epoch 10/20\n",
      "191/191 [==============================] - 1s 5ms/step - loss: 0.1038 - accuracy: 0.9658 - val_loss: 0.5651 - val_accuracy: 0.8332\n",
      "Epoch 11/20\n",
      "191/191 [==============================] - 1s 5ms/step - loss: 0.0866 - accuracy: 0.9723 - val_loss: 0.6038 - val_accuracy: 0.8285\n",
      "Epoch 12/20\n",
      "191/191 [==============================] - 1s 5ms/step - loss: 0.0724 - accuracy: 0.9781 - val_loss: 0.6476 - val_accuracy: 0.8232\n",
      "Epoch 13/20\n",
      "191/191 [==============================] - 1s 5ms/step - loss: 0.0625 - accuracy: 0.9809 - val_loss: 0.7172 - val_accuracy: 0.8245\n",
      "Epoch 14/20\n",
      "191/191 [==============================] - 1s 5ms/step - loss: 0.0541 - accuracy: 0.9842 - val_loss: 0.7487 - val_accuracy: 0.8236\n",
      "Epoch 15/20\n",
      "191/191 [==============================] - 1s 5ms/step - loss: 0.0482 - accuracy: 0.9865 - val_loss: 0.8254 - val_accuracy: 0.8226\n",
      "Epoch 16/20\n",
      "191/191 [==============================] - 1s 5ms/step - loss: 0.0439 - accuracy: 0.9877 - val_loss: 0.8571 - val_accuracy: 0.8206\n",
      "Epoch 17/20\n",
      "191/191 [==============================] - 1s 5ms/step - loss: 0.0398 - accuracy: 0.9890 - val_loss: 0.8766 - val_accuracy: 0.8190\n",
      "Epoch 18/20\n",
      "191/191 [==============================] - 1s 5ms/step - loss: 0.0363 - accuracy: 0.9900 - val_loss: 0.9695 - val_accuracy: 0.8195\n",
      "Epoch 19/20\n",
      "191/191 [==============================] - 1s 6ms/step - loss: 0.0334 - accuracy: 0.9912 - val_loss: 0.9871 - val_accuracy: 0.8187\n",
      "Epoch 20/20\n",
      "191/191 [==============================] - 1s 5ms/step - loss: 0.0318 - accuracy: 0.9915 - val_loss: 1.0055 - val_accuracy: 0.8178\n"
     ]
    }
   ],
   "source": [
    "model.compile(optimizer='adam',\n",
    "              loss='binary_crossentropy',\n",
    "              metrics=['accuracy'])\n",
    "              \n",
    "epochs=20  # 몇 epoch를 훈련하면 좋을지 결과를 보면서 바꾸어 봅시다. \n",
    "\n",
    "history = model.fit(partial_x_train,\n",
    "                    partial_y_train,\n",
    "                    epochs=epochs,\n",
    "                    batch_size=512,\n",
    "                    validation_data=(x_val, y_val),\n",
    "                    verbose=1)"
   ]
  },
  {
   "cell_type": "code",
   "execution_count": 50,
   "id": "72a56893",
   "metadata": {},
   "outputs": [
    {
     "name": "stdout",
     "output_type": "stream",
     "text": [
      "1537/1537 - 2s - loss: 1.0309 - accuracy: 0.8138\n",
      "[1.0308934450149536, 0.813759982585907]\n"
     ]
    }
   ],
   "source": [
    "results = model.evaluate(x_test,  y_test, verbose=2)\n",
    "\n",
    "print(results)"
   ]
  },
  {
   "cell_type": "markdown",
   "id": "b44282b0",
   "metadata": {},
   "source": [
    "## Loss, Accuracy 그래프 시각화"
   ]
  },
  {
   "cell_type": "code",
   "execution_count": 51,
   "id": "9ddde5c7",
   "metadata": {
    "scrolled": true
   },
   "outputs": [
    {
     "name": "stdout",
     "output_type": "stream",
     "text": [
      "dict_keys(['loss', 'accuracy', 'val_loss', 'val_accuracy'])\n"
     ]
    },
    {
     "data": {
      "image/png": "[encoded data removed]",
      "text/plain": [
       "<Figure size 432x288 with 1 Axes>"
      ]
     },
     "metadata": {
      "needs_background": "light"
     },
     "output_type": "display_data"
    }
   ],
   "source": [
    "history_dict = history.history\n",
    "print(history_dict.keys()) # epoch에 따른 그래프를 그려볼 수 있는 항목들\n",
    "import matplotlib.pyplot as plt\n",
    "\n",
    "acc = history_dict['accuracy']\n",
    "val_acc = history_dict['val_accuracy']\n",
    "loss = history_dict['loss']\n",
    "val_loss = history_dict['val_loss']\n",
    "\n",
    "epochs = range(1, len(acc) + 1)\n",
    "\n",
    "# \"bo\"는 \"파란색 점\"입니다\n",
    "plt.plot(epochs, loss, 'bo', label='Training loss')\n",
    "# b는 \"파란 실선\"입니다\n",
    "plt.plot(epochs, val_loss, 'b', label='Validation loss')\n",
    "plt.title('Training and validation loss')\n",
    "plt.xlabel('Epochs')\n",
    "plt.ylabel('Loss')\n",
    "plt.legend()\n",
    "\n",
    "plt.show()"
   ]
  },
  {
   "cell_type": "code",
   "execution_count": 52,
   "id": "0950601a",
   "metadata": {},
   "outputs": [
    {
     "data": {
      "image/png": "[encoded data removed]",
      "text/plain": [
       "<Figure size 432x288 with 1 Axes>"
      ]
     },
     "metadata": {
      "needs_background": "light"
     },
     "output_type": "display_data"
    }
   ],
   "source": [
    "plt.clf()   # 그림을 초기화합니다\n",
    "\n",
    "plt.plot(epochs, acc, 'bo', label='Training acc')\n",
    "plt.plot(epochs, val_acc, 'b', label='Validation acc')\n",
    "plt.title('Training and validation accuracy')\n",
    "plt.xlabel('Epochs')\n",
    "plt.ylabel('Accuracy')\n",
    "plt.legend()\n",
    "\n",
    "plt.show()"
   ]
  },
  {
   "cell_type": "markdown",
   "id": "f0f9f21a",
   "metadata": {},
   "source": [
    "## 학습된 Embedding 레이어 분석"
   ]
  },
  {
   "cell_type": "markdown",
   "id": "83748f5e",
   "metadata": {},
   "source": [
    " ## 한국어 Word2Vec 임베딩 활용하여 성능 개선"
   ]
  },
  {
   "cell_type": "code",
   "execution_count": null,
   "id": "a525b7c6",
   "metadata": {},
   "outputs": [],
   "source": []
  },
  {
   "cell_type": "code",
   "execution_count": 53,
   "id": "9293f9cf",
   "metadata": {},
   "outputs": [],
   "source": [
    "import gensim"
   ]
  },
  {
   "cell_type": "code",
   "execution_count": 56,
   "id": "c3395628",
   "metadata": {},
   "outputs": [],
   "source": [
    "from gensim.models import Word2Vec"
   ]
  },
  {
   "cell_type": "code",
   "execution_count": 63,
   "id": "e8c98864",
   "metadata": {},
   "outputs": [],
   "source": [
    "model_path = '/aiffel/data/word2vec_ko.model'"
   ]
  },
  {
   "cell_type": "code",
   "execution_count": 72,
   "id": "2eb5b01b",
   "metadata": {
    "scrolled": true
   },
   "outputs": [
    {
     "data": {
      "text/plain": [
       "(100,)"
      ]
     },
     "execution_count": 72,
     "metadata": {},
     "output_type": "execute_result"
    }
   ],
   "source": [
    "from gensim.models.keyedvectors import Word2VecKeyedVectors\n",
    "word_vectors = Word2VecKeyedVectors.load(model_path)\n",
    "vector = word_vectors.wv['끝']\n",
    "vector.shape"
   ]
  },
  {
   "cell_type": "code",
   "execution_count": 74,
   "id": "0ad5cf10",
   "metadata": {
    "scrolled": true
   },
   "outputs": [
    {
     "name": "stderr",
     "output_type": "stream",
     "text": [
      "/tmp/ipykernel_260/2168914698.py:8: FutureWarning: elementwise comparison failed; returning scalar instead, but in the future will perform elementwise comparison\n",
      "  if index_to_word[i] in vector:\n"
     ]
    }
   ],
   "source": [
    "vocab_size = 10000\n",
    "word_vector_dim = 200\n",
    "\n",
    "embedding_matrix = np.random.rand(vocab_size, word_vector_dim)\n",
    "\n",
    "# embedding matrix에 word2vec 워드를 단어 하나식마다 차례차례 카피한다.\n",
    "for i in range(4, vocab_size):\n",
    "    if index_to_word[i] in vector:\n",
    "        embedding_matrix[i] = vector[index_to_word[i]]"
   ]
  },
  {
   "cell_type": "code",
   "execution_count": 76,
   "id": "38e01aa6",
   "metadata": {},
   "outputs": [],
   "source": [
    "from tensorflow import keras"
   ]
  },
  {
   "cell_type": "code",
   "execution_count": 77,
   "id": "4f00a3aa",
   "metadata": {},
   "outputs": [
    {
     "name": "stdout",
     "output_type": "stream",
     "text": [
      "Model: \"sequential_2\"\n",
      "_________________________________________________________________\n",
      "Layer (type)                 Output Shape              Param #   \n",
      "=================================================================\n",
      "embedding_2 (Embedding)      (None, 41, 200)           2000000   \n",
      "_________________________________________________________________\n",
      "conv1d_4 (Conv1D)            (None, 35, 16)            22416     \n",
      "_________________________________________________________________\n",
      "max_pooling1d_2 (MaxPooling1 (None, 7, 16)             0         \n",
      "_________________________________________________________________\n",
      "conv1d_5 (Conv1D)            (None, 1, 16)             1808      \n",
      "_________________________________________________________________\n",
      "global_max_pooling1d_2 (Glob (None, 16)                0         \n",
      "_________________________________________________________________\n",
      "dense_4 (Dense)              (None, 8)                 136       \n",
      "_________________________________________________________________\n",
      "dense_5 (Dense)              (None, 1)                 9         \n",
      "=================================================================\n",
      "Total params: 2,024,369\n",
      "Trainable params: 2,024,369\n",
      "Non-trainable params: 0\n",
      "_________________________________________________________________\n"
     ]
    }
   ],
   "source": [
    "from tensorflow.keras.initializers import Constant\n",
    "\n",
    "# 모델 구성\n",
    "model = keras.Sequential()\n",
    "model.add(keras.layers.Embedding(vocab_size, word_vector_dim,\n",
    "                        embeddings_initializer = Constant(embedding_matrix),\n",
    "                        input_length = maxlen,\n",
    "                        trainable = True))\n",
    "model.add(keras.layers.Conv1D(16, 7, activation='relu'))\n",
    "model.add(keras.layers.MaxPooling1D(5))\n",
    "model.add(keras.layers.Conv1D(16, 7, activation='relu'))\n",
    "model.add(keras.layers.GlobalMaxPooling1D())\n",
    "model.add(keras.layers.Dense(8, activation='relu'))\n",
    "model.add(keras.layers.Dense(1, activation='sigmoid'))\n",
    "\n",
    "model.summary()"
   ]
  },
  {
   "cell_type": "code",
   "execution_count": 78,
   "id": "329112bc",
   "metadata": {},
   "outputs": [
    {
     "name": "stdout",
     "output_type": "stream",
     "text": [
      "Epoch 1/20\n",
      "191/191 [==============================] - 3s 9ms/step - loss: 0.6194 - accuracy: 0.6462 - val_loss: 0.4587 - val_accuracy: 0.7923\n",
      "Epoch 2/20\n",
      "191/191 [==============================] - 1s 7ms/step - loss: 0.3995 - accuracy: 0.8223 - val_loss: 0.3757 - val_accuracy: 0.8332\n",
      "Epoch 3/20\n",
      "191/191 [==============================] - 1s 8ms/step - loss: 0.3372 - accuracy: 0.8556 - val_loss: 0.3558 - val_accuracy: 0.8461\n",
      "Epoch 4/20\n",
      "191/191 [==============================] - 1s 7ms/step - loss: 0.3024 - accuracy: 0.8732 - val_loss: 0.3556 - val_accuracy: 0.8465\n",
      "Epoch 5/20\n",
      "191/191 [==============================] - 1s 7ms/step - loss: 0.2762 - accuracy: 0.8877 - val_loss: 0.3541 - val_accuracy: 0.8487\n",
      "Epoch 6/20\n",
      "191/191 [==============================] - 1s 7ms/step - loss: 0.2534 - accuracy: 0.8981 - val_loss: 0.3644 - val_accuracy: 0.8447\n",
      "Epoch 7/20\n",
      "191/191 [==============================] - 1s 7ms/step - loss: 0.2256 - accuracy: 0.9111 - val_loss: 0.3713 - val_accuracy: 0.8463\n",
      "Epoch 8/20\n",
      "191/191 [==============================] - 1s 7ms/step - loss: 0.2021 - accuracy: 0.9239 - val_loss: 0.4365 - val_accuracy: 0.8291\n",
      "Epoch 9/20\n",
      "191/191 [==============================] - 1s 7ms/step - loss: 0.1778 - accuracy: 0.9352 - val_loss: 0.4097 - val_accuracy: 0.8411\n",
      "Epoch 10/20\n",
      "191/191 [==============================] - 1s 7ms/step - loss: 0.1496 - accuracy: 0.9484 - val_loss: 0.4281 - val_accuracy: 0.8383\n",
      "Epoch 11/20\n",
      "191/191 [==============================] - 1s 7ms/step - loss: 0.1331 - accuracy: 0.9554 - val_loss: 0.4657 - val_accuracy: 0.8339\n",
      "Epoch 12/20\n",
      "191/191 [==============================] - 1s 7ms/step - loss: 0.1117 - accuracy: 0.9643 - val_loss: 0.4819 - val_accuracy: 0.8317\n",
      "Epoch 13/20\n",
      "191/191 [==============================] - 1s 7ms/step - loss: 0.0971 - accuracy: 0.9691 - val_loss: 0.5470 - val_accuracy: 0.8257\n",
      "Epoch 14/20\n",
      "191/191 [==============================] - 1s 8ms/step - loss: 0.0828 - accuracy: 0.9745 - val_loss: 0.5702 - val_accuracy: 0.8266\n",
      "Epoch 15/20\n",
      "191/191 [==============================] - 1s 7ms/step - loss: 0.0692 - accuracy: 0.9797 - val_loss: 0.5831 - val_accuracy: 0.8267\n",
      "Epoch 16/20\n",
      "191/191 [==============================] - 1s 7ms/step - loss: 0.0580 - accuracy: 0.9838 - val_loss: 0.6176 - val_accuracy: 0.8254\n",
      "Epoch 17/20\n",
      "191/191 [==============================] - 1s 7ms/step - loss: 0.0704 - accuracy: 0.9775 - val_loss: 0.6031 - val_accuracy: 0.8260\n",
      "Epoch 18/20\n",
      "191/191 [==============================] - 1s 7ms/step - loss: 0.0605 - accuracy: 0.9816 - val_loss: 0.6329 - val_accuracy: 0.8259\n",
      "Epoch 19/20\n",
      "191/191 [==============================] - 1s 7ms/step - loss: 0.0469 - accuracy: 0.9875 - val_loss: 0.6369 - val_accuracy: 0.8234\n",
      "Epoch 20/20\n",
      "191/191 [==============================] - 1s 7ms/step - loss: 0.0422 - accuracy: 0.9886 - val_loss: 0.6846 - val_accuracy: 0.8241\n"
     ]
    }
   ],
   "source": [
    "# 학습하기\n",
    "model.compile(optimizer = 'adam',\n",
    "             loss = 'binary_crossentropy',\n",
    "             metrics=['accuracy'])\n",
    "epochs = 20\n",
    "history = model.fit(partial_x_train,\n",
    "                   partial_y_train,\n",
    "                   epochs = epochs,\n",
    "                   batch_size = 512, validation_data=(x_val, y_val),\n",
    "                   verbose=1)"
   ]
  },
  {
   "cell_type": "code",
   "execution_count": 79,
   "id": "0d3725f1",
   "metadata": {},
   "outputs": [
    {
     "name": "stdout",
     "output_type": "stream",
     "text": [
      "1537/1537 - 3s - loss: 0.7101 - accuracy: 0.8176\n",
      "[0.7100896239280701, 0.8176251649856567]\n"
     ]
    }
   ],
   "source": [
    "# 테스트셋을 통한 모델 평가\n",
    "results = model.evaluate(x_test, y_test, verbose=2)\n",
    "print(results)"
   ]
  },
  {
   "cell_type": "markdown",
   "id": "ecec492f",
   "metadata": {},
   "source": [
    "# 회고\n",
    "### 프로그램 작성에 집중하느라, 전체적인 흐름에 대한 이해가 아직 부족하다.   \n",
    "### 처음부터 꼭 다시 한 번 리뷰하는 시간을 가질 예정이다.\n",
    "### 'Unpickling error'를 해결하는 데에 시간이 많이 소요되었다. 결국은 경로 문제였음...잘 확인하기!!"
   ]
  },
  {
   "cell_type": "code",
   "execution_count": null,
   "id": "704131c6",
   "metadata": {},
   "outputs": [],
   "source": []
  }
 ],
 "metadata": {
  "kernelspec": {
   "display_name": "Python 3 (ipykernel)",
   "language": "python",
   "name": "python3"
  },
  "language_info": {
   "codemirror_mode": {
    "name": "ipython",
    "version": 3
   },
   "file_extension": ".py",
   "mimetype": "text/x-python",
   "name": "python",
   "nbconvert_exporter": "python",
   "pygments_lexer": "ipython3",
   "version": "3.9.7"
  }
 },
 "nbformat": 4,
 "nbformat_minor": 5
}
