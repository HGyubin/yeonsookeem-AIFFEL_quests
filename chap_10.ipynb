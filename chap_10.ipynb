{
 "cells": [
  {
   "cell_type": "markdown",
   "id": "8223462a",
   "metadata": {},
   "source": [
    "# 1. Boston 주택 가격 예측 모델"
   ]
  },
  {
   "cell_type": "markdown",
   "id": "56a3455b",
   "metadata": {},
   "source": [
    "### 데이터 로드 및 전처리"
   ]
  },
  {
   "cell_type": "code",
   "execution_count": 1,
   "id": "0fde2f57",
   "metadata": {},
   "outputs": [],
   "source": [
    "from tensorflow.keras import models, layers\n",
    "import matplotlib.pyplot as plt"
   ]
  },
  {
   "cell_type": "code",
   "execution_count": 2,
   "id": "fa00b261",
   "metadata": {},
   "outputs": [
    {
     "name": "stdout",
     "output_type": "stream",
     "text": [
      "404\n",
      "102\n"
     ]
    }
   ],
   "source": [
    "# keras.datasets 안에 boston_housing 데이터셋을 로드합니다.\n",
    "from keras.datasets import boston_housing\n",
    "\n",
    "(train_data, train_labels), (test_data, test_labels) = boston_housing.load_data()\n",
    "\n",
    "# 데이터셋의 크기를 확인합니다.\n",
    "print(len(train_data))\n",
    "print(len(test_data))"
   ]
  },
  {
   "cell_type": "code",
   "execution_count": 3,
   "id": "4c5606e9",
   "metadata": {},
   "outputs": [],
   "source": [
    "# 문제 1-1: 데이터셋의 전처리를 위해 표준화 작업을 수행합니다.\n",
    "# 먼저 입력 데이터의 각 특성의 평균을 뺍니다.\n",
    "mean = train_data.mean(axis=0)\n",
    "train_data = train_data - mean\n",
    "\n",
    "# 평균을 뺀 입력 데이터에서 표준편차를 나눕니다.\n",
    "# 데이터 특성의 중앙이 0에 가깝게 만들고, 표준편차가 1이 되게 만듭니다.\n",
    "std = train_data.std(axis=0)\n",
    "train_data = train_data /std\n",
    "\n",
    "# 테스트 데이터셋도 마찬가지로 평균을 빼고, 표준편차로 나눕니다.\n",
    "test_data = test_data - mean\n",
    "test_data = test_data /std"
   ]
  },
  {
   "cell_type": "markdown",
   "id": "0df8b488",
   "metadata": {},
   "source": [
    "### 모델 구성 및 컴파일"
   ]
  },
  {
   "cell_type": "code",
   "execution_count": 4,
   "id": "43261f2c",
   "metadata": {},
   "outputs": [],
   "source": [
    "# 문제 1-2: 주택 가격 예측을 위한 딥러닝 모델 구성 및 컴파일합니다.\n",
    "# input_shape은 (train_data.shape[1], )으로 구성합니다.\n",
    "# 회귀(예측)을 위한 모델이므로 loss를 mse, metrics를 mae로 사용합니다.\n",
    "from tensorflow.keras.models import Sequential\n",
    "from tensorflow.keras.layers import Dense\n",
    "from tensorflow.keras.optimizers import Adam\n",
    "\n",
    "# 모델 구성\n",
    "model = Sequential([\n",
    "    Dense(100, activation='relu', input_shape=(train_data.shape[1], ), name='dense1'),\n",
    "    Dense(64, activation='relu', name='dense2'),\n",
    "    Dense(32, activation='relu', name='dense3'),\n",
    "    Dense(1, name='output')\n",
    "])\n",
    "\n",
    "# 모델 컴파일\n",
    "model.compile(loss='mse',\n",
    "              optimizer=Adam(learning_rate=1e-2),\n",
    "              metrics=['mae'])\n"
   ]
  },
  {
   "cell_type": "markdown",
   "id": "c0a339cc",
   "metadata": {},
   "source": [
    "### 모델 학습"
   ]
  },
  {
   "cell_type": "code",
   "execution_count": 5,
   "id": "b8a8fb90",
   "metadata": {},
   "outputs": [
    {
     "name": "stdout",
     "output_type": "stream",
     "text": [
      "Epoch 1/20\n",
      "1/1 [==============================] - 1s 1s/step - loss: 585.4102 - mae: 22.4275 - val_loss: 573.6788 - val_mae: 22.2183\n",
      "Epoch 2/20\n",
      "1/1 [==============================] - 0s 24ms/step - loss: 546.4224 - mae: 21.5514 - val_loss: 525.6750 - val_mae: 21.1422\n",
      "Epoch 3/20\n",
      "1/1 [==============================] - 0s 41ms/step - loss: 500.4177 - mae: 20.4806 - val_loss: 456.5927 - val_mae: 19.4715\n",
      "Epoch 4/20\n",
      "1/1 [==============================] - 0s 18ms/step - loss: 434.2239 - mae: 18.8371 - val_loss: 364.0143 - val_mae: 17.0781\n",
      "Epoch 5/20\n",
      "1/1 [==============================] - 0s 19ms/step - loss: 346.3054 - mae: 16.4992 - val_loss: 254.7317 - val_mae: 14.0937\n",
      "Epoch 6/20\n",
      "1/1 [==============================] - 0s 18ms/step - loss: 244.1512 - mae: 13.4719 - val_loss: 151.3435 - val_mae: 10.7523\n",
      "Epoch 7/20\n",
      "1/1 [==============================] - 0s 18ms/step - loss: 150.4313 - mae: 10.2065 - val_loss: 99.9599 - val_mae: 8.0704\n",
      "Epoch 8/20\n",
      "1/1 [==============================] - 0s 19ms/step - loss: 108.4363 - mae: 8.3990 - val_loss: 135.4564 - val_mae: 8.9448\n",
      "Epoch 9/20\n",
      "1/1 [==============================] - 0s 18ms/step - loss: 145.8110 - mae: 9.4541 - val_loss: 159.5726 - val_mae: 9.7546\n",
      "Epoch 10/20\n",
      "1/1 [==============================] - 0s 19ms/step - loss: 165.4185 - mae: 10.0091 - val_loss: 122.5568 - val_mae: 8.7585\n",
      "Epoch 11/20\n",
      "1/1 [==============================] - 0s 19ms/step - loss: 125.1275 - mae: 8.6693 - val_loss: 73.4358 - val_mae: 6.9380\n",
      "Epoch 12/20\n",
      "1/1 [==============================] - 0s 18ms/step - loss: 74.0436 - mae: 6.6152 - val_loss: 45.8935 - val_mae: 5.3494\n",
      "Epoch 13/20\n",
      "1/1 [==============================] - 0s 19ms/step - loss: 45.1062 - mae: 5.0237 - val_loss: 41.9728 - val_mae: 5.1659\n",
      "Epoch 14/20\n",
      "1/1 [==============================] - 0s 19ms/step - loss: 39.8754 - mae: 4.6519 - val_loss: 49.0249 - val_mae: 5.7661\n",
      "Epoch 15/20\n",
      "1/1 [==============================] - 0s 19ms/step - loss: 45.7602 - mae: 5.1113 - val_loss: 55.6306 - val_mae: 6.1559\n",
      "Epoch 16/20\n",
      "1/1 [==============================] - 0s 19ms/step - loss: 51.4728 - mae: 5.5658 - val_loss: 56.3994 - val_mae: 6.2221\n",
      "Epoch 17/20\n",
      "1/1 [==============================] - 0s 18ms/step - loss: 51.7560 - mae: 5.6027 - val_loss: 51.0140 - val_mae: 5.8422\n",
      "Epoch 18/20\n",
      "1/1 [==============================] - 0s 19ms/step - loss: 46.3086 - mae: 5.1851 - val_loss: 42.2726 - val_mae: 5.2388\n",
      "Epoch 19/20\n",
      "1/1 [==============================] - 0s 19ms/step - loss: 37.9289 - mae: 4.5303 - val_loss: 34.6669 - val_mae: 4.7583\n",
      "Epoch 20/20\n",
      "1/1 [==============================] - 0s 18ms/step - loss: 31.0098 - mae: 4.0518 - val_loss: 32.4172 - val_mae: 4.4936\n"
     ]
    }
   ],
   "source": [
    "# 문제 1-3: 예측을 위한 딥러닝 모델을 학습합니다.\n",
    "history = model.fit(train_data, train_labels,\n",
    "                    epochs=20,\n",
    "                    batch_size=512,\n",
    "                    validation_data=(test_data, test_labels))"
   ]
  },
  {
   "cell_type": "code",
   "execution_count": 6,
   "id": "1075cfc9",
   "metadata": {},
   "outputs": [
    {
     "data": {
      "image/png": "[encoded data removed]",
      "text/plain": [
       "<Figure size 864x360 with 2 Axes>"
      ]
     },
     "metadata": {},
     "output_type": "display_data"
    }
   ],
   "source": [
    "# 모델 학습 히스토리에서 loss, val_loss, mae, val_mae를 차트로 보여줍니다.\n",
    "plt.style.use('seaborn-white')\n",
    "\n",
    "history_dict = history.history\n",
    "\n",
    "loss = history_dict['loss']\n",
    "val_loss = history_dict['val_loss']\n",
    "\n",
    "epochs = range(1, len(loss) + 1)\n",
    "fig = plt.figure(figsize=(12, 5))\n",
    "\n",
    "ax1 = fig.add_subplot(1, 2, 1)\n",
    "ax1.plot(epochs, loss, 'b-', label='train_loss')\n",
    "ax1.plot(epochs, val_loss, 'r-', label='val_loss')\n",
    "ax1.set_title('Train and Validation Loss')\n",
    "ax1.set_xlabel('Epochs')\n",
    "ax1.set_ylabel('Loss')\n",
    "ax1.grid()\n",
    "ax1.legend()\n",
    "\n",
    "mae = history_dict['mae']\n",
    "val_mae = history_dict['val_mae']\n",
    "\n",
    "ax2 = fig.add_subplot(1, 2, 2)\n",
    "ax2.plot(epochs, mae, 'b-', label='train_mae')\n",
    "ax2.plot(epochs, val_mae, 'r-', label='val_mae')\n",
    "ax2.set_title('Train and Validation MAE')\n",
    "ax2.set_xlabel('Epochs')\n",
    "ax2.set_ylabel('Accuracy')\n",
    "ax2.grid()\n",
    "ax2.legend()\n",
    "\n",
    "plt.show()"
   ]
  },
  {
   "cell_type": "markdown",
   "id": "1725d309",
   "metadata": {},
   "source": [
    "### 모델 평가 및 예측"
   ]
  },
  {
   "cell_type": "code",
   "execution_count": 7,
   "id": "e107c878",
   "metadata": {},
   "outputs": [
    {
     "name": "stdout",
     "output_type": "stream",
     "text": [
      "4/4 [==============================] - 0s 2ms/step - loss: 32.4172 - mae: 4.4936\n"
     ]
    },
    {
     "data": {
      "text/plain": [
       "[32.41719055175781, 4.493627071380615]"
      ]
     },
     "execution_count": 7,
     "metadata": {},
     "output_type": "execute_result"
    }
   ],
   "source": [
    "# 문제 1-4: 테스트 데이터셋을 이용해 모델을 평가합니다.\n",
    "model.evaluate(test_data, test_labels)"
   ]
  },
  {
   "cell_type": "markdown",
   "id": "f9207d23",
   "metadata": {},
   "source": [
    "# 2. Reuters 딥러닝 모델"
   ]
  },
  {
   "cell_type": "code",
   "execution_count": 48,
   "id": "73695bd0",
   "metadata": {},
   "outputs": [],
   "source": [
    "import numpy as np\n",
    "import matplotlib.pyplot as plt\n",
    "from sklearn.model_selection import train_test_split\n",
    "\n",
    "from tensorflow.keras import models, layers\n",
    "from tensorflow.keras import callbacks\n",
    "from tensorflow.keras import utils\n",
    "from keras.datasets import reuters\n",
    "from tensorflow.keras.layers import Dense, BatchNormalization, Activation, Dropout, Flatten"
   ]
  },
  {
   "cell_type": "code",
   "execution_count": 49,
   "id": "40b41266",
   "metadata": {},
   "outputs": [
    {
     "name": "stdout",
     "output_type": "stream",
     "text": [
      "6736\n",
      "2246\n",
      "2246\n",
      "46\n"
     ]
    }
   ],
   "source": [
    "# 문제 2-1: reuters 데이터셋을 로드하고, 훈련 데이터셋에서 25%를 검증 데이터셋으로 분리합니다.\n",
    "from keras.datasets import reuters\n",
    "import numpy as np\n",
    "from sklearn.model_selection import train_test_split\n",
    "\n",
    "(train_data, train_labels), (test_data, test_labels) = reuters.load_data(num_words=10000)\n",
    "train_data, val_data, train_labels, val_labels = train_test_split(train_data, train_labels,\n",
    "                                                  test_size=0.25,\n",
    "                                                  random_state=123)\n",
    "\n",
    "\n",
    "# 훈련, 검증, 테스트 데이터와 레이블 종류가 몇 개인지 출력합니다.\n",
    "print(len(train_data))\n",
    "print(len(val_data))\n",
    "print(len(test_data))\n",
    "print(len(set(train_labels)))"
   ]
  },
  {
   "cell_type": "code",
   "execution_count": 50,
   "id": "64cbabc9",
   "metadata": {},
   "outputs": [],
   "source": [
    "# 문제 2-2: 텍스트 데이터의 전처리를 위해서 각 데이터셋마다 원-핫 인코딩을 수행합니다.\n",
    "def one_hot_encoding(data, dim=10000):\n",
    "  results = np.zeros((len(data), dim))\n",
    "  for i, d in enumerate(data):\n",
    "    results[i, d] = 1.\n",
    "  return results\n",
    "\n",
    "x_train = one_hot_encoding(train_data)\n",
    "x_val = one_hot_encoding(val_data)\n",
    "x_test = one_hot_encoding(test_data)\n",
    "\n",
    "# 레이블 데이터들은 범주형 형태로 to_categorical() 함수를 사용해 변환합니다.\n",
    "from tensorflow.keras import utils\n",
    "\n",
    "y_train = utils.to_categorical(train_labels)\n",
    "y_val = utils.to_categorical(val_labels)\n",
    "y_test = utils.to_categorical(test_labels)\n"
   ]
  },
  {
   "cell_type": "code",
   "execution_count": 51,
   "id": "c5afed56",
   "metadata": {},
   "outputs": [
    {
     "name": "stdout",
     "output_type": "stream",
     "text": [
      "Model: \"sequential_7\"\n",
      "_________________________________________________________________\n",
      "Layer (type)                 Output Shape              Param #   \n",
      "=================================================================\n",
      "input (Dense)                (None, 128)               1280128   \n",
      "_________________________________________________________________\n",
      "batch_normalization_8 (Batch (None, 128)               512       \n",
      "_________________________________________________________________\n",
      "activation_8 (Activation)    (None, 128)               0         \n",
      "_________________________________________________________________\n",
      "dropout_4 (Dropout)          (None, 128)               0         \n",
      "_________________________________________________________________\n",
      "hidden (Dense)               (None, 128)               16512     \n",
      "_________________________________________________________________\n",
      "batch_normalization_9 (Batch (None, 128)               512       \n",
      "_________________________________________________________________\n",
      "activation_9 (Activation)    (None, 128)               0         \n",
      "_________________________________________________________________\n",
      "dropout_5 (Dropout)          (None, 128)               0         \n",
      "_________________________________________________________________\n",
      "output (Dense)               (None, 46)                5934      \n",
      "=================================================================\n",
      "Total params: 1,303,598\n",
      "Trainable params: 1,303,086\n",
      "Non-trainable params: 512\n",
      "_________________________________________________________________\n"
     ]
    }
   ],
   "source": [
    "# 문제 2-3: 빠른 학습과 과대적합을 방지하기 위해 BatchNormalization과 Dropout을 적용한 딥러닝 모델을 구성합니다.\n",
    "#배치정규화 포함\n",
    "import tensorflow as tf\n",
    "from tensorflow.keras import models, layers\n",
    "\n",
    "model = models.Sequential()\n",
    "model.add(layers.Dense(128, input_shape=(10000, ), name='input'))\n",
    "model.add(layers.BatchNormalization())\n",
    "model.add(layers.Activation('relu')) \n",
    "model.add(Dropout(0.5))\n",
    "model.add(layers.Dense(128, name='hidden'))\n",
    "model.add(layers.BatchNormalization())\n",
    "model.add(layers.Activation('relu')) \n",
    "model.add(Dropout(0.5))\n",
    "model.add(layers.Dense(46, activation='softmax', name='output'))\n",
    "\n",
    "model.compile(optimizer='rmsprop',\n",
    "              loss='categorical_crossentropy',\n",
    "              metrics=['accuracy'])\n",
    "model.summary()"
   ]
  },
  {
   "cell_type": "code",
   "execution_count": 52,
   "id": "c82b6161",
   "metadata": {},
   "outputs": [
    {
     "name": "stdout",
     "output_type": "stream",
     "text": [
      "Epoch 1/60\n",
      "211/211 [==============================] - 2s 7ms/step - loss: 1.8643 - accuracy: 0.5778 - val_loss: 1.4585 - val_accuracy: 0.6803\n",
      "Epoch 2/60\n",
      "211/211 [==============================] - 1s 5ms/step - loss: 1.2564 - accuracy: 0.7104 - val_loss: 1.1735 - val_accuracy: 0.7471\n",
      "Epoch 3/60\n",
      "211/211 [==============================] - 1s 5ms/step - loss: 1.0452 - accuracy: 0.7543 - val_loss: 1.1768 - val_accuracy: 0.7694\n",
      "Epoch 4/60\n",
      "211/211 [==============================] - 1s 5ms/step - loss: 0.9418 - accuracy: 0.7761 - val_loss: 1.1915 - val_accuracy: 0.7769\n",
      "Epoch 5/60\n",
      "211/211 [==============================] - 1s 5ms/step - loss: 0.8542 - accuracy: 0.7993 - val_loss: 1.1919 - val_accuracy: 0.7716\n",
      "Epoch 6/60\n",
      "211/211 [==============================] - 1s 5ms/step - loss: 0.7834 - accuracy: 0.8196 - val_loss: 1.1972 - val_accuracy: 0.7783\n",
      "Epoch 7/60\n",
      "211/211 [==============================] - 1s 5ms/step - loss: 0.7186 - accuracy: 0.8269 - val_loss: 1.2333 - val_accuracy: 0.7778\n",
      "Epoch 8/60\n",
      "211/211 [==============================] - 1s 5ms/step - loss: 0.6983 - accuracy: 0.8380 - val_loss: 1.3076 - val_accuracy: 0.7823\n",
      "Epoch 9/60\n",
      "211/211 [==============================] - 1s 5ms/step - loss: 0.6650 - accuracy: 0.8435 - val_loss: 1.3555 - val_accuracy: 0.7854\n",
      "Epoch 10/60\n",
      "211/211 [==============================] - 1s 6ms/step - loss: 0.6385 - accuracy: 0.8474 - val_loss: 1.4074 - val_accuracy: 0.7783\n",
      "Epoch 11/60\n",
      "211/211 [==============================] - 1s 5ms/step - loss: 0.6042 - accuracy: 0.8544 - val_loss: 1.4182 - val_accuracy: 0.7774\n",
      "Epoch 12/60\n",
      "211/211 [==============================] - 1s 5ms/step - loss: 0.5811 - accuracy: 0.8643 - val_loss: 1.4299 - val_accuracy: 0.7698\n"
     ]
    }
   ],
   "source": [
    "# 문제 2-4: ModelCheckpoint와 EarlyStopping 콜백 함수를 적용하여 모델 학습을 진행합니다.\n",
    "from tensorflow.keras import callbacks\n",
    "\n",
    "check_point_cb = callbacks.ModelCheckpoint('reuters.h5', \n",
    "                                           save_best_only=True)\n",
    "early_stopping_cb = callbacks.EarlyStopping(patience=10, \n",
    "                                            monitor='val_loss',\n",
    "                                            restore_best_weights=True)\n",
    "history = model.fit(x_train, y_train, epochs=60,\n",
    "                    validation_data=(x_val, y_val),\n",
    "                    callbacks=[check_point_cb, early_stopping_cb])"
   ]
  },
  {
   "cell_type": "code",
   "execution_count": 53,
   "id": "782e361d",
   "metadata": {},
   "outputs": [
    {
     "data": {
      "image/png": "[encoded data removed]",
      "text/plain": [
       "<Figure size 864x360 with 2 Axes>"
      ]
     },
     "metadata": {},
     "output_type": "display_data"
    }
   ],
   "source": [
    "# 학습 히스토리의 `loss`, `val_loss`, `accuracy`, `val_accuracy`를 차트로 시각화합니다.\n",
    "plt.style.use('seaborn-white')\n",
    "\n",
    "history_dict = history.history\n",
    "\n",
    "loss = history_dict['loss']\n",
    "val_loss = history_dict['val_loss']\n",
    "\n",
    "epochs = range(1, len(loss) + 1)\n",
    "fig = plt.figure(figsize=(12, 5))\n",
    "\n",
    "ax1 = fig.add_subplot(1, 2, 1)\n",
    "ax1.plot(epochs, loss, 'b-', label='train_loss')\n",
    "ax1.plot(epochs, val_loss, 'r-', label='val_loss')\n",
    "ax1.set_title('Train and Validation Loss')\n",
    "ax1.set_xlabel('Epochs')\n",
    "ax1.set_ylabel('Loss')\n",
    "ax1.grid()\n",
    "ax1.legend()\n",
    "\n",
    "accuracy = history_dict['accuracy']\n",
    "val_accuracy = history_dict['val_accuracy']\n",
    "\n",
    "ax2 = fig.add_subplot(1, 2, 2)\n",
    "ax2.plot(epochs, accuracy, 'b-', label='train_accuracy')\n",
    "ax2.plot(epochs, val_accuracy, 'r-', label='val_accuracy')\n",
    "ax2.set_title('Train and Validation Accuracy')\n",
    "ax2.set_xlabel('Epochs')\n",
    "ax2.set_ylabel('Accuracy')\n",
    "ax2.grid()\n",
    "ax2.legend()\n",
    "\n",
    "plt.show()"
   ]
  },
  {
   "cell_type": "code",
   "execution_count": 54,
   "id": "931bd0d1",
   "metadata": {},
   "outputs": [
    {
     "name": "stdout",
     "output_type": "stream",
     "text": [
      "71/71 [==============================] - 0s 2ms/step - loss: 1.1990 - accuracy: 0.7449\n"
     ]
    },
    {
     "data": {
      "text/plain": [
       "[1.1989854574203491, 0.7448797821998596]"
      ]
     },
     "execution_count": 54,
     "metadata": {},
     "output_type": "execute_result"
    }
   ],
   "source": [
    "# 문제 2-5: 테스트 데이터셋을 이용해 모델을 평가합니다.\n",
    "model.evaluate(x_test, y_test)"
   ]
  },
  {
   "cell_type": "markdown",
   "id": "73f0ed36",
   "metadata": {},
   "source": [
    "# 3. CIFAR10"
   ]
  },
  {
   "cell_type": "markdown",
   "id": "7d122040",
   "metadata": {},
   "source": [
    "### 데이터 로드 및 전처리"
   ]
  },
  {
   "cell_type": "code",
   "execution_count": 31,
   "id": "4cb76b76",
   "metadata": {},
   "outputs": [],
   "source": [
    "import matplotlib.pyplot as plt\n",
    "from sklearn.model_selection import train_test_split\n",
    "from tensorflow.keras.layers import Dense, BatchNormalization, Activation, Dropout, Flatten\n",
    "\n",
    "\n",
    "from tensorflow.keras import models, layers\n",
    "from tensorflow.keras.datasets import cifar10"
   ]
  },
  {
   "cell_type": "code",
   "execution_count": 32,
   "id": "b74fda8e",
   "metadata": {},
   "outputs": [
    {
     "name": "stdout",
     "output_type": "stream",
     "text": [
      "전체 학습 데이터: (50000, 32, 32, 3) 레이블: (50000, 1)\n",
      "학습 데이터: (40000, 32, 32, 3) 레이블: (40000, 1)\n",
      "검증 데이터: (10000, 32, 32, 3) 레이블: (10000, 1)\n",
      "테스트 데이터: (10000, 32, 32, 3) 레이블: (10000, 1)\n"
     ]
    }
   ],
   "source": [
    "# 문제 3-1: cifar10 데이터셋을 로드하고, 훈련 데이터셋에서 20%를 검증 데이터셋으로 분리합니다.\n",
    "(x_train_full, y_train_full), (x_test, y_test) = cifar10.load_data()\n",
    "\n",
    "x_train, x_val, y_train, y_val = train_test_split(x_train_full, y_train_full,\n",
    "                                                  test_size=0.2,\n",
    "                                                  random_state=123)\n",
    "\n",
    "# 훈련, 검증, 테스트 데이터와 레이블 종류가 몇개인지 출력합니다.\n",
    "print(\"전체 학습 데이터: {} 레이블: {}\".format(x_train_full.shape, y_train_full.shape))\n",
    "print(\"학습 데이터: {} 레이블: {}\".format(x_train.shape, y_train.shape))\n",
    "print(\"검증 데이터: {} 레이블: {}\".format(x_val.shape, y_val.shape))\n",
    "print(\"테스트 데이터: {} 레이블: {}\".format(x_test.shape, y_test.shape))"
   ]
  },
  {
   "cell_type": "code",
   "execution_count": 33,
   "id": "37fe149d",
   "metadata": {},
   "outputs": [],
   "source": [
    "# cifar10의 분류에 해당하는 'airplane', 'automobile', 'bird', 'cat', 'deer', \n",
    "# 'dog', 'frog', 'horse', 'ship', 'truck'를 class_name으로 정의합니다.\n",
    "class_names = ['airplane', 'automobile', 'bird', 'cat', 'deer',\n",
    "               'dog', 'frog', 'horse', 'ship', 'truck']"
   ]
  },
  {
   "cell_type": "code",
   "execution_count": 34,
   "id": "002c7adf",
   "metadata": {},
   "outputs": [
    {
     "name": "stdout",
     "output_type": "stream",
     "text": [
      "(40000, 32, 32, 3)\n",
      "(10000, 32, 32, 3)\n",
      "(10000, 32, 32, 3)\n"
     ]
    }
   ],
   "source": [
    "# 훈련, 검증, 테스트 데이터의 형태(shape)을 출력합니다.\n",
    "print(x_train.shape)\n",
    "print(x_val.shape)\n",
    "print(x_test.shape)"
   ]
  },
  {
   "cell_type": "code",
   "execution_count": 35,
   "id": "90269954",
   "metadata": {},
   "outputs": [],
   "source": [
    "# 훈련, 검증, 테스트 데이터를 255로 나누어 0~1 사이의 값으로 변환합니다.\n",
    "x_train = x_train / 255.\n",
    "x_val = x_val / 255.\n",
    "x_test = x_test / 255.\n",
    "\n",
    "# One-hot encode the target labels -> 하는 이유?????\n",
    "y_train = tf.keras.utils.to_categorical(y_train, num_classes=10)\n",
    "y_val = tf.keras.utils.to_categorical(y_val, num_classes=10)\n",
    "y_test = tf.keras.utils.to_categorical(y_test, num_classes=10)"
   ]
  },
  {
   "cell_type": "markdown",
   "id": "14e9d5a3",
   "metadata": {},
   "source": [
    "### 모델 구성 및 컴파일"
   ]
  },
  {
   "cell_type": "code",
   "execution_count": 36,
   "id": "1c71aea8",
   "metadata": {},
   "outputs": [],
   "source": [
    "# 문제 3-3: BatchNormalization과 Dropout을 적용하여 빠른 학습과 과대적합을 방지하고,\n",
    "# 10개의 이미지를 분류하는 딥러닝 모델을 구성합니다.\n",
    "model = models.Sequential()\n",
    "model.add(Flatten(input_shape=(32, 32, 3)))  # Flatten the 32x32x3 input images to a 1D vector ?????\n",
    "model.add(Dense(64, name='input'))\n",
    "model.add(layers.BatchNormalization())\n",
    "model.add(layers.Activation('relu')) \n",
    "model.add(Dropout(0.5))\n",
    "model.add(layers.Dense(32, name='hidden'))\n",
    "model.add(layers.BatchNormalization())\n",
    "model.add(layers.Activation('relu')) \n",
    "model.add(Dropout(0.5))\n",
    "model.add(layers.Dense(10, activation='softmax', name='output'))\n",
    "\n",
    "\n",
    "model.compile(optimizer='rmsprop',\n",
    "              loss='categorical_crossentropy',\n",
    "              metrics=['accuracy'])"
   ]
  },
  {
   "cell_type": "code",
   "execution_count": 37,
   "id": "7222dbd0",
   "metadata": {},
   "outputs": [
    {
     "name": "stdout",
     "output_type": "stream",
     "text": [
      "Model: \"sequential_4\"\n",
      "_________________________________________________________________\n",
      "Layer (type)                 Output Shape              Param #   \n",
      "=================================================================\n",
      "flatten_1 (Flatten)          (None, 3072)              0         \n",
      "_________________________________________________________________\n",
      "input (Dense)                (None, 64)                196672    \n",
      "_________________________________________________________________\n",
      "batch_normalization_2 (Batch (None, 64)                256       \n",
      "_________________________________________________________________\n",
      "activation_2 (Activation)    (None, 64)                0         \n",
      "_________________________________________________________________\n",
      "dropout (Dropout)            (None, 64)                0         \n",
      "_________________________________________________________________\n",
      "hidden (Dense)               (None, 32)                2080      \n",
      "_________________________________________________________________\n",
      "batch_normalization_3 (Batch (None, 32)                128       \n",
      "_________________________________________________________________\n",
      "activation_3 (Activation)    (None, 32)                0         \n",
      "_________________________________________________________________\n",
      "dropout_1 (Dropout)          (None, 32)                0         \n",
      "_________________________________________________________________\n",
      "output (Dense)               (None, 10)                330       \n",
      "=================================================================\n",
      "Total params: 199,466\n",
      "Trainable params: 199,274\n",
      "Non-trainable params: 192\n",
      "_________________________________________________________________\n"
     ]
    }
   ],
   "source": [
    "model.summary()"
   ]
  },
  {
   "cell_type": "markdown",
   "id": "516b1aba",
   "metadata": {},
   "source": [
    "### 모델 학습"
   ]
  },
  {
   "cell_type": "code",
   "execution_count": 38,
   "id": "810bafe9",
   "metadata": {},
   "outputs": [
    {
     "name": "stdout",
     "output_type": "stream",
     "text": [
      "Epoch 1/60\n",
      "1250/1250 [==============================] - 6s 4ms/step - loss: 2.1063 - accuracy: 0.2393 - val_loss: 1.8591 - val_accuracy: 0.3341\n",
      "Epoch 2/60\n",
      "1250/1250 [==============================] - 5s 4ms/step - loss: 1.9252 - accuracy: 0.2990 - val_loss: 1.8043 - val_accuracy: 0.3503\n",
      "Epoch 3/60\n",
      "1250/1250 [==============================] - 4s 4ms/step - loss: 1.8885 - accuracy: 0.3165 - val_loss: 1.7331 - val_accuracy: 0.3772\n",
      "Epoch 4/60\n",
      "1250/1250 [==============================] - 4s 4ms/step - loss: 1.8598 - accuracy: 0.3287 - val_loss: 1.7270 - val_accuracy: 0.3823\n",
      "Epoch 5/60\n",
      "1250/1250 [==============================] - 4s 4ms/step - loss: 1.8383 - accuracy: 0.3407 - val_loss: 1.7210 - val_accuracy: 0.3727\n",
      "Epoch 6/60\n",
      "1250/1250 [==============================] - 5s 4ms/step - loss: 1.8279 - accuracy: 0.3420 - val_loss: 1.7687 - val_accuracy: 0.3749\n",
      "Epoch 7/60\n",
      "1250/1250 [==============================] - 5s 4ms/step - loss: 1.8097 - accuracy: 0.3530 - val_loss: 1.6882 - val_accuracy: 0.3909\n",
      "Epoch 8/60\n",
      "1250/1250 [==============================] - 5s 4ms/step - loss: 1.8074 - accuracy: 0.3541 - val_loss: 1.6870 - val_accuracy: 0.4018\n",
      "Epoch 9/60\n",
      "1250/1250 [==============================] - 4s 4ms/step - loss: 1.7980 - accuracy: 0.3590 - val_loss: 1.6737 - val_accuracy: 0.3977\n",
      "Epoch 10/60\n",
      "1250/1250 [==============================] - 5s 4ms/step - loss: 1.7849 - accuracy: 0.3578 - val_loss: 1.7020 - val_accuracy: 0.3870\n",
      "Epoch 11/60\n",
      "1250/1250 [==============================] - 4s 4ms/step - loss: 1.7840 - accuracy: 0.3601 - val_loss: 1.6600 - val_accuracy: 0.4051\n",
      "Epoch 12/60\n",
      "1250/1250 [==============================] - 4s 4ms/step - loss: 1.7773 - accuracy: 0.3621 - val_loss: 1.6429 - val_accuracy: 0.4201\n",
      "Epoch 13/60\n",
      "1250/1250 [==============================] - 4s 4ms/step - loss: 1.7707 - accuracy: 0.3679 - val_loss: 1.6698 - val_accuracy: 0.4060\n",
      "Epoch 14/60\n",
      "1250/1250 [==============================] - 5s 4ms/step - loss: 1.7703 - accuracy: 0.3682 - val_loss: 1.6339 - val_accuracy: 0.4201\n",
      "Epoch 15/60\n",
      "1250/1250 [==============================] - 5s 4ms/step - loss: 1.7594 - accuracy: 0.3701 - val_loss: 1.6183 - val_accuracy: 0.4326\n",
      "Epoch 16/60\n",
      "1250/1250 [==============================] - 4s 4ms/step - loss: 1.7603 - accuracy: 0.3735 - val_loss: 1.6481 - val_accuracy: 0.4132\n",
      "Epoch 17/60\n",
      "1250/1250 [==============================] - 4s 4ms/step - loss: 1.7498 - accuracy: 0.3736 - val_loss: 1.6683 - val_accuracy: 0.4192\n",
      "Epoch 18/60\n",
      "1250/1250 [==============================] - 4s 4ms/step - loss: 1.7553 - accuracy: 0.3738 - val_loss: 1.6284 - val_accuracy: 0.4171\n",
      "Epoch 19/60\n",
      "1250/1250 [==============================] - 4s 4ms/step - loss: 1.7476 - accuracy: 0.3748 - val_loss: 1.6869 - val_accuracy: 0.3957\n",
      "Epoch 20/60\n",
      "1250/1250 [==============================] - 5s 4ms/step - loss: 1.7399 - accuracy: 0.3801 - val_loss: 1.6334 - val_accuracy: 0.4170\n",
      "Epoch 21/60\n",
      "1250/1250 [==============================] - 4s 4ms/step - loss: 1.7407 - accuracy: 0.3794 - val_loss: 1.6305 - val_accuracy: 0.4151\n",
      "Epoch 22/60\n",
      "1250/1250 [==============================] - 5s 4ms/step - loss: 1.7413 - accuracy: 0.3769 - val_loss: 1.6225 - val_accuracy: 0.4231\n",
      "Epoch 23/60\n",
      "1250/1250 [==============================] - 4s 4ms/step - loss: 1.7369 - accuracy: 0.3811 - val_loss: 1.5888 - val_accuracy: 0.4361\n",
      "Epoch 24/60\n",
      "1250/1250 [==============================] - 4s 4ms/step - loss: 1.7367 - accuracy: 0.3780 - val_loss: 1.5994 - val_accuracy: 0.4389\n",
      "Epoch 25/60\n",
      "1250/1250 [==============================] - 4s 4ms/step - loss: 1.7352 - accuracy: 0.3805 - val_loss: 1.5942 - val_accuracy: 0.4335\n",
      "Epoch 26/60\n",
      "1250/1250 [==============================] - 4s 4ms/step - loss: 1.7283 - accuracy: 0.3822 - val_loss: 1.6069 - val_accuracy: 0.4281\n",
      "Epoch 27/60\n",
      "1250/1250 [==============================] - 5s 4ms/step - loss: 1.7242 - accuracy: 0.3841 - val_loss: 1.6206 - val_accuracy: 0.4147\n",
      "Epoch 28/60\n",
      "1250/1250 [==============================] - 5s 4ms/step - loss: 1.7234 - accuracy: 0.3855 - val_loss: 1.5808 - val_accuracy: 0.4443\n",
      "Epoch 29/60\n",
      "1250/1250 [==============================] - 4s 4ms/step - loss: 1.7210 - accuracy: 0.3847 - val_loss: 1.6526 - val_accuracy: 0.4047\n",
      "Epoch 30/60\n",
      "1250/1250 [==============================] - 4s 4ms/step - loss: 1.7196 - accuracy: 0.3859 - val_loss: 1.6282 - val_accuracy: 0.4091\n",
      "Epoch 31/60\n",
      "1250/1250 [==============================] - 4s 4ms/step - loss: 1.7205 - accuracy: 0.3839 - val_loss: 1.6021 - val_accuracy: 0.4301\n",
      "Epoch 32/60\n",
      "1250/1250 [==============================] - 5s 4ms/step - loss: 1.7128 - accuracy: 0.3883 - val_loss: 1.5800 - val_accuracy: 0.4358\n",
      "Epoch 33/60\n",
      "1250/1250 [==============================] - 4s 4ms/step - loss: 1.7161 - accuracy: 0.3855 - val_loss: 1.5787 - val_accuracy: 0.4356\n",
      "Epoch 34/60\n",
      "1250/1250 [==============================] - 4s 4ms/step - loss: 1.7116 - accuracy: 0.3860 - val_loss: 1.5775 - val_accuracy: 0.4370\n",
      "Epoch 35/60\n",
      "1250/1250 [==============================] - 5s 4ms/step - loss: 1.7124 - accuracy: 0.3857 - val_loss: 1.5831 - val_accuracy: 0.4426\n",
      "Epoch 36/60\n",
      "1250/1250 [==============================] - 4s 4ms/step - loss: 1.7068 - accuracy: 0.3890 - val_loss: 1.6566 - val_accuracy: 0.4251\n",
      "Epoch 37/60\n",
      "1250/1250 [==============================] - 5s 4ms/step - loss: 1.7051 - accuracy: 0.3877 - val_loss: 1.5799 - val_accuracy: 0.4305\n",
      "Epoch 38/60\n",
      "1250/1250 [==============================] - 4s 4ms/step - loss: 1.7054 - accuracy: 0.3887 - val_loss: 1.5981 - val_accuracy: 0.4417\n",
      "Epoch 39/60\n",
      "1250/1250 [==============================] - 4s 4ms/step - loss: 1.6989 - accuracy: 0.3920 - val_loss: 1.5974 - val_accuracy: 0.4329\n",
      "Epoch 40/60\n",
      "1250/1250 [==============================] - 5s 4ms/step - loss: 1.7000 - accuracy: 0.3905 - val_loss: 1.5896 - val_accuracy: 0.4313\n",
      "Epoch 41/60\n",
      "1250/1250 [==============================] - 5s 4ms/step - loss: 1.7049 - accuracy: 0.3910 - val_loss: 1.5909 - val_accuracy: 0.4325\n",
      "Epoch 42/60\n",
      "1250/1250 [==============================] - 5s 4ms/step - loss: 1.6952 - accuracy: 0.3950 - val_loss: 1.5886 - val_accuracy: 0.4441\n",
      "Epoch 43/60\n",
      "1250/1250 [==============================] - 4s 4ms/step - loss: 1.6957 - accuracy: 0.3918 - val_loss: 1.6002 - val_accuracy: 0.4307\n",
      "Epoch 44/60\n",
      "1250/1250 [==============================] - 5s 4ms/step - loss: 1.6940 - accuracy: 0.3960 - val_loss: 1.5594 - val_accuracy: 0.4526\n",
      "Epoch 45/60\n",
      "1250/1250 [==============================] - 4s 4ms/step - loss: 1.7019 - accuracy: 0.3946 - val_loss: 1.6240 - val_accuracy: 0.4192\n",
      "Epoch 46/60\n",
      "1250/1250 [==============================] - 5s 4ms/step - loss: 1.6929 - accuracy: 0.3936 - val_loss: 1.5955 - val_accuracy: 0.4331\n",
      "Epoch 47/60\n",
      "1250/1250 [==============================] - 4s 4ms/step - loss: 1.6925 - accuracy: 0.3916 - val_loss: 1.5924 - val_accuracy: 0.4403\n",
      "Epoch 48/60\n",
      "1250/1250 [==============================] - 5s 4ms/step - loss: 1.6897 - accuracy: 0.3927 - val_loss: 1.6051 - val_accuracy: 0.4265\n",
      "Epoch 49/60\n",
      "1250/1250 [==============================] - 5s 4ms/step - loss: 1.6930 - accuracy: 0.3954 - val_loss: 1.6331 - val_accuracy: 0.4146\n",
      "Epoch 50/60\n",
      "1250/1250 [==============================] - 5s 4ms/step - loss: 1.6892 - accuracy: 0.3984 - val_loss: 1.5599 - val_accuracy: 0.4458\n",
      "Epoch 51/60\n",
      "1250/1250 [==============================] - 4s 4ms/step - loss: 1.6901 - accuracy: 0.3947 - val_loss: 1.5649 - val_accuracy: 0.4464\n",
      "Epoch 52/60\n",
      "1250/1250 [==============================] - 4s 4ms/step - loss: 1.6889 - accuracy: 0.3983 - val_loss: 1.5752 - val_accuracy: 0.4356\n",
      "Epoch 53/60\n",
      "1250/1250 [==============================] - 5s 4ms/step - loss: 1.6852 - accuracy: 0.3965 - val_loss: 1.5767 - val_accuracy: 0.4385\n",
      "Epoch 54/60\n",
      "1250/1250 [==============================] - 5s 4ms/step - loss: 1.6857 - accuracy: 0.3986 - val_loss: 1.6301 - val_accuracy: 0.4128\n"
     ]
    }
   ],
   "source": [
    "# 문제 3-4: ModelCheckpoint와 EarlyStopping 콜백 함수를 적용하여 모델 학습을 진행합니다.\n",
    "from tensorflow.keras import callbacks\n",
    "\n",
    "check_point_cb = callbacks.ModelCheckpoint('cifar10.h5', \n",
    "                                           save_best_only=True)\n",
    "early_stopping_cb = callbacks.EarlyStopping(patience=10, \n",
    "                                            monitor='val_loss',\n",
    "                                            restore_best_weights=True)\n",
    "history = model.fit(x_train, y_train, epochs=60,\n",
    "                    validation_data=(x_val, y_val),\n",
    "                    callbacks=[check_point_cb, early_stopping_cb])"
   ]
  },
  {
   "cell_type": "code",
   "execution_count": 39,
   "id": "c7b80b02",
   "metadata": {},
   "outputs": [
    {
     "data": {
      "image/png": "[encoded data removed]",
      "text/plain": [
       "<Figure size 864x360 with 2 Axes>"
      ]
     },
     "metadata": {},
     "output_type": "display_data"
    }
   ],
   "source": [
    "plt.style.use('seaborn-white')\n",
    "\n",
    "history_dict = history.history\n",
    "\n",
    "loss = history_dict['loss']\n",
    "val_loss = history_dict['val_loss']\n",
    "\n",
    "epochs = range(1, len(loss) + 1)\n",
    "fig = plt.figure(figsize=(12, 5))\n",
    "\n",
    "ax1 = fig.add_subplot(1, 2, 1)\n",
    "ax1.plot(epochs, loss, 'b-', label='train_loss')\n",
    "ax1.plot(epochs, val_loss, 'r-', label='val_loss')\n",
    "ax1.set_title('Train and Validation Loss')\n",
    "ax1.set_xlabel('Epochs')\n",
    "ax1.set_ylabel('Loss')\n",
    "ax1.grid()\n",
    "ax1.legend()\n",
    "\n",
    "accuracy = history_dict['accuracy']\n",
    "val_accuracy = history_dict['val_accuracy']\n",
    "\n",
    "ax2 = fig.add_subplot(1, 2, 2)\n",
    "ax2.plot(epochs, accuracy, 'b-', label='train_accuracy')\n",
    "ax2.plot(epochs, val_accuracy, 'r-', label='val_accuracy')\n",
    "ax2.set_title('Train and Validation Accuracy')\n",
    "ax2.set_xlabel('Epochs')\n",
    "ax2.set_ylabel('Accuracy')\n",
    "ax2.grid()\n",
    "ax2.legend()\n",
    "\n",
    "plt.show()"
   ]
  },
  {
   "cell_type": "code",
   "execution_count": 40,
   "id": "9cfb364f",
   "metadata": {},
   "outputs": [
    {
     "name": "stdout",
     "output_type": "stream",
     "text": [
      "313/313 [==============================] - 1s 2ms/step - loss: 1.5461 - accuracy: 0.4547\n"
     ]
    },
    {
     "data": {
      "text/plain": [
       "[1.5460515022277832, 0.4546999931335449]"
      ]
     },
     "execution_count": 40,
     "metadata": {},
     "output_type": "execute_result"
    }
   ],
   "source": [
    "# 테스트 데이터셋을 이용해 모델을 평가합니다.\n",
    "model.evaluate(x_test, y_test)"
   ]
  },
  {
   "cell_type": "code",
   "execution_count": null,
   "id": "c0fce706",
   "metadata": {},
   "outputs": [],
   "source": []
  }
 ],
 "metadata": {
  "kernelspec": {
   "display_name": "Python 3 (ipykernel)",
   "language": "python",
   "name": "python3"
  },
  "language_info": {
   "codemirror_mode": {
    "name": "ipython",
    "version": 3
   },
   "file_extension": ".py",
   "mimetype": "text/x-python",
   "name": "python",
   "nbconvert_exporter": "python",
   "pygments_lexer": "ipython3",
   "version": "3.9.7"
  }
 },
 "nbformat": 4,
 "nbformat_minor": 5
}
