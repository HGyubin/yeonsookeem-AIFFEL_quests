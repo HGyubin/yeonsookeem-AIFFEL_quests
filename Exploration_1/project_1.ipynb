{
 "cells": [
  {
   "cell_type": "code",
   "execution_count": 4,
   "id": "865aec54",
   "metadata": {},
   "outputs": [],
   "source": [
    "from sklearn.datasets import load_diabetes\n",
    "\n",
    "diabetes=load_diabetes()"
   ]
  },
  {
   "cell_type": "code",
   "execution_count": 5,
   "id": "3f5d9d6d",
   "metadata": {},
   "outputs": [],
   "source": [
    "df_X=diabetes.data\n",
    "df_y=diabetes.target"
   ]
  },
  {
   "cell_type": "code",
   "execution_count": 31,
   "id": "590077c3",
   "metadata": {},
   "outputs": [],
   "source": [
    "import numpy as np\n",
    "X = np.array(df_X)\n",
    "y = np.array(df_y)"
   ]
  },
  {
   "cell_type": "code",
   "execution_count": 32,
   "id": "7f317206",
   "metadata": {},
   "outputs": [
    {
     "name": "stdout",
     "output_type": "stream",
     "text": [
      "(442, 10)\n",
      "(442,)\n"
     ]
    }
   ],
   "source": [
    "print(X.shape)\n",
    "print(y.shape)"
   ]
  },
  {
   "cell_type": "code",
   "execution_count": 33,
   "id": "18a26585",
   "metadata": {},
   "outputs": [
    {
     "name": "stdout",
     "output_type": "stream",
     "text": [
      "(353, 10) (353,)\n",
      "(89, 10) (89,)\n"
     ]
    }
   ],
   "source": [
    "from sklearn.model_selection import train_test_split\n",
    "\n",
    "X_train, X_test, y_train, y_test = train_test_split(df_X, df_y, test_size=0.2, random_state=42)\n",
    "\n",
    "print(X_train.shape, y_train.shape)\n",
    "print(X_test.shape, y_test.shape)"
   ]
  },
  {
   "cell_type": "code",
   "execution_count": 47,
   "id": "f63dcdc4",
   "metadata": {},
   "outputs": [],
   "source": [
    "import numpy as np\n",
    "W = np.random.rand(10)\n",
    "b = np.random.rand(1)"
   ]
  },
  {
   "cell_type": "code",
   "execution_count": 48,
   "id": "066edae2",
   "metadata": {},
   "outputs": [
    {
     "data": {
      "text/plain": [
       "array([0.03617897, 0.55035616, 0.05611462, 0.20807308, 0.84510754,\n",
       "       0.70247051, 0.97419018, 0.63376732, 0.33234829, 0.78719126])"
      ]
     },
     "execution_count": 48,
     "metadata": {},
     "output_type": "execute_result"
    }
   ],
   "source": [
    "W"
   ]
  },
  {
   "cell_type": "code",
   "execution_count": 49,
   "id": "c879913d",
   "metadata": {},
   "outputs": [],
   "source": [
    "def model(X, W, b):\n",
    "    predictions = 0\n",
    "    for i in range(10):\n",
    "        predictions += X[:, i] * W[i]\n",
    "    predictions += b\n",
    "    return predictions"
   ]
  },
  {
   "cell_type": "code",
   "execution_count": 50,
   "id": "73c6cd83",
   "metadata": {},
   "outputs": [],
   "source": [
    "def MSE(a, b):\n",
    "    mse = ((a - b) ** 2).mean()  # 두 값의 차이의 제곱의 평균\n",
    "    return mse"
   ]
  },
  {
   "cell_type": "code",
   "execution_count": 51,
   "id": "8afa1cb3",
   "metadata": {},
   "outputs": [],
   "source": [
    "def loss(X, W, b, y):\n",
    "    predictions = model(X, W, b)\n",
    "    L = MSE(predictions, y)\n",
    "    return L"
   ]
  },
  {
   "cell_type": "code",
   "execution_count": 52,
   "id": "cae97ce2",
   "metadata": {},
   "outputs": [],
   "source": [
    "def gradient(X, W, b, y):\n",
    "    # N은 데이터 포인트의 개수\n",
    "    N = len(y)\n",
    "    \n",
    "    # y_pred 준비\n",
    "    y_pred = model(X, W, b)\n",
    "    \n",
    "    # 공식에 맞게 gradient 계산\n",
    "    dW = 1/N * 2 * X.T.dot(y_pred - y)\n",
    "        \n",
    "    # b의 gradient 계산\n",
    "    db = 2 * (y_pred - y).mean()\n",
    "    return dW, db"
   ]
  },
  {
   "cell_type": "code",
   "execution_count": 67,
   "id": "d1727cce",
   "metadata": {},
   "outputs": [],
   "source": [
    "LEARNING_RATE = 0.1"
   ]
  },
  {
   "cell_type": "code",
   "execution_count": 68,
   "id": "3204f32e",
   "metadata": {
    "scrolled": false
   },
   "outputs": [
    {
     "name": "stdout",
     "output_type": "stream",
     "text": [
      "Iteration 10 : Loss 3009.5248\n",
      "Iteration 20 : Loss 3008.5556\n",
      "Iteration 30 : Loss 3007.5957\n",
      "Iteration 40 : Loss 3006.6448\n",
      "Iteration 50 : Loss 3005.7028\n",
      "Iteration 60 : Loss 3004.7698\n",
      "Iteration 70 : Loss 3003.8456\n",
      "Iteration 80 : Loss 3002.9300\n",
      "Iteration 90 : Loss 3002.0231\n",
      "Iteration 100 : Loss 3001.1247\n",
      "Iteration 110 : Loss 3000.2347\n",
      "Iteration 120 : Loss 2999.3531\n",
      "Iteration 130 : Loss 2998.4797\n",
      "Iteration 140 : Loss 2997.6146\n",
      "Iteration 150 : Loss 2996.7575\n",
      "Iteration 160 : Loss 2995.9084\n",
      "Iteration 170 : Loss 2995.0673\n",
      "Iteration 180 : Loss 2994.2340\n",
      "Iteration 190 : Loss 2993.4085\n",
      "Iteration 200 : Loss 2992.5907\n",
      "Iteration 210 : Loss 2991.7806\n",
      "Iteration 220 : Loss 2990.9779\n",
      "Iteration 230 : Loss 2990.1827\n",
      "Iteration 240 : Loss 2989.3949\n",
      "Iteration 250 : Loss 2988.6145\n",
      "Iteration 260 : Loss 2987.8412\n",
      "Iteration 270 : Loss 2987.0752\n",
      "Iteration 280 : Loss 2986.3162\n",
      "Iteration 290 : Loss 2985.5643\n",
      "Iteration 300 : Loss 2984.8193\n",
      "Iteration 310 : Loss 2984.0812\n",
      "Iteration 320 : Loss 2983.3499\n",
      "Iteration 330 : Loss 2982.6254\n",
      "Iteration 340 : Loss 2981.9075\n",
      "Iteration 350 : Loss 2981.1963\n",
      "Iteration 360 : Loss 2980.4916\n",
      "Iteration 370 : Loss 2979.7934\n",
      "Iteration 380 : Loss 2979.1016\n",
      "Iteration 390 : Loss 2978.4162\n",
      "Iteration 400 : Loss 2977.7371\n",
      "Iteration 410 : Loss 2977.0642\n",
      "Iteration 420 : Loss 2976.3975\n",
      "Iteration 430 : Loss 2975.7369\n",
      "Iteration 440 : Loss 2975.0823\n",
      "Iteration 450 : Loss 2974.4337\n",
      "Iteration 460 : Loss 2973.7911\n",
      "Iteration 470 : Loss 2973.1543\n",
      "Iteration 480 : Loss 2972.5233\n",
      "Iteration 490 : Loss 2971.8981\n",
      "Iteration 500 : Loss 2971.2786\n",
      "Iteration 510 : Loss 2970.6648\n",
      "Iteration 520 : Loss 2970.0565\n",
      "Iteration 530 : Loss 2969.4538\n",
      "Iteration 540 : Loss 2968.8565\n",
      "Iteration 550 : Loss 2968.2647\n",
      "Iteration 560 : Loss 2967.6782\n",
      "Iteration 570 : Loss 2967.0971\n",
      "Iteration 580 : Loss 2966.5212\n",
      "Iteration 590 : Loss 2965.9506\n",
      "Iteration 600 : Loss 2965.3851\n",
      "Iteration 610 : Loss 2964.8247\n",
      "Iteration 620 : Loss 2964.2694\n",
      "Iteration 630 : Loss 2963.7192\n",
      "Iteration 640 : Loss 2963.1739\n",
      "Iteration 650 : Loss 2962.6335\n",
      "Iteration 660 : Loss 2962.0980\n",
      "Iteration 670 : Loss 2961.5673\n",
      "Iteration 680 : Loss 2961.0414\n",
      "Iteration 690 : Loss 2960.5202\n",
      "Iteration 700 : Loss 2960.0037\n",
      "Iteration 710 : Loss 2959.4919\n",
      "Iteration 720 : Loss 2958.9846\n",
      "Iteration 730 : Loss 2958.4819\n",
      "Iteration 740 : Loss 2957.9837\n",
      "Iteration 750 : Loss 2957.4900\n",
      "Iteration 760 : Loss 2957.0007\n",
      "Iteration 770 : Loss 2956.5158\n",
      "Iteration 780 : Loss 2956.0352\n",
      "Iteration 790 : Loss 2955.5589\n",
      "Iteration 800 : Loss 2955.0869\n",
      "Iteration 810 : Loss 2954.6191\n",
      "Iteration 820 : Loss 2954.1555\n",
      "Iteration 830 : Loss 2953.6959\n",
      "Iteration 840 : Loss 2953.2405\n",
      "Iteration 850 : Loss 2952.7892\n",
      "Iteration 860 : Loss 2952.3418\n",
      "Iteration 870 : Loss 2951.8985\n",
      "Iteration 880 : Loss 2951.4591\n",
      "Iteration 890 : Loss 2951.0235\n",
      "Iteration 900 : Loss 2950.5919\n",
      "Iteration 910 : Loss 2950.1641\n",
      "Iteration 920 : Loss 2949.7400\n",
      "Iteration 930 : Loss 2949.3197\n",
      "Iteration 940 : Loss 2948.9032\n",
      "Iteration 950 : Loss 2948.4903\n",
      "Iteration 960 : Loss 2948.0811\n",
      "Iteration 970 : Loss 2947.6755\n",
      "Iteration 980 : Loss 2947.2734\n",
      "Iteration 990 : Loss 2946.8750\n",
      "Iteration 1000 : Loss 2946.4800\n"
     ]
    }
   ],
   "source": [
    "losses = []\n",
    "\n",
    "for i in range(1, 1001):\n",
    "    dW, db = gradient(X_train, W, b, y_train)\n",
    "    W -= LEARNING_RATE * dW\n",
    "    b -= LEARNING_RATE * db\n",
    "    L = loss(X_train, W, b, y_train)\n",
    "    losses.append(L)\n",
    "    if i % 10 == 0:\n",
    "        print('Iteration %d : Loss %0.4f' % (i, L))"
   ]
  },
  {
   "cell_type": "code",
   "execution_count": 69,
   "id": "9366bd44",
   "metadata": {},
   "outputs": [
    {
     "data": {
      "text/plain": [
       "2865.029834788191"
      ]
     },
     "execution_count": 69,
     "metadata": {},
     "output_type": "execute_result"
    }
   ],
   "source": [
    "prediction = model(X_test, W, b)\n",
    "mse = loss(X_test, W, b, y_test)\n",
    "mse"
   ]
  },
  {
   "cell_type": "code",
   "execution_count": 70,
   "id": "2a8478ee",
   "metadata": {},
   "outputs": [],
   "source": [
    "import matplotlib.pyplot as plt"
   ]
  },
  {
   "cell_type": "code",
   "execution_count": 71,
   "id": "80a70d0c",
   "metadata": {},
   "outputs": [
    {
     "data": {
      "image/png": "[encoded data removed]",
      "text/plain": [
       "<Figure size 432x288 with 1 Axes>"
      ]
     },
     "metadata": {
      "needs_background": "light"
     },
     "output_type": "display_data"
    }
   ],
   "source": [
    "plt.scatter(X_test[:, 0], y_test)\n",
    "plt.scatter(X_test[:, 0], prediction)\n",
    "plt.show()"
   ]
  },
  {
   "cell_type": "code",
   "execution_count": null,
   "id": "1dc24933",
   "metadata": {},
   "outputs": [],
   "source": []
  }
 ],
 "metadata": {
  "kernelspec": {
   "display_name": "Python 3 (ipykernel)",
   "language": "python",
   "name": "python3"
  },
  "language_info": {
   "codemirror_mode": {
    "name": "ipython",
    "version": 3
   },
   "file_extension": ".py",
   "mimetype": "text/x-python",
   "name": "python",
   "nbconvert_exporter": "python",
   "pygments_lexer": "ipython3",
   "version": "3.9.7"
  }
 },
 "nbformat": 4,
 "nbformat_minor": 5
}
